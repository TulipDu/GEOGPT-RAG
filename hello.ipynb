{
 "cells": [
  {
   "cell_type": "code",
   "execution_count": 5,
   "id": "b9326cd4",
   "metadata": {},
   "outputs": [
    {
     "data": {
      "text/plain": [
       "tensor([2., 5.])"
      ]
     },
     "execution_count": 5,
     "metadata": {},
     "output_type": "execute_result"
    }
   ],
   "source": [
    "import torch\n",
    "m=torch.tensor([\n",
    "                [1, 2, 3],\n",
    "                [4, 5, 6]]\n",
    "                 ).float()\n",
    "mean_m=torch.mean(m, dim=1)\n",
    "mean_m"
   ]
  },
  {
   "cell_type": "code",
   "execution_count": null,
   "id": "f49d6bc3",
   "metadata": {},
   "outputs": [],
   "source": [
    "v_t = torch.as_tensor(m, dtype=torch.float)\n",
    "# Your implementation here\n",
    "x,y=v_t[0],v_t[1]\n",
    "x_mean=torch.mean(x)\n",
    "y_mean=torch.mean(y)\n",
    "x_conv= torch.sum((x-x_mean).pow(2))/(v_t.size(1)-1)\n",
    "y_conv=torch.sum((y-y_mean).pow(2))/(v_t.size(1)-1)   \n"
   ]
  },
  {
   "cell_type": "code",
   "execution_count": 24,
   "id": "eaf25f07",
   "metadata": {},
   "outputs": [],
   "source": [
    "x,y=v_t[0],v_t[1]\n",
    "x_mean=torch.mean(x)\n",
    "y_mean=torch.mean(y)\n",
    "x_conv= torch.sum((x-x_mean).pow(2))/(v_t.size(1)-1)\n",
    "y_conv=torch.sum((y-y_mean).pow(2))/(v_t.size(1)-1)   \n",
    "conv=torch.sum((x-x_mean)*(y-y_mean))/(v_t.size(1)-1)   \n"
   ]
  },
  {
   "cell_type": "code",
   "execution_count": 25,
   "id": "9bd75351",
   "metadata": {},
   "outputs": [],
   "source": [
    "mean=v_t.mean(dim=1,keepdim=True)\n",
    "centerd=v_t-mean\n",
    "conv=centerd@centerd.T/(v_t.size(1)-1)"
   ]
  }
 ],
 "metadata": {
  "kernelspec": {
   "display_name": "base",
   "language": "python",
   "name": "python3"
  },
  "language_info": {
   "codemirror_mode": {
    "name": "ipython",
    "version": 3
   },
   "file_extension": ".py",
   "mimetype": "text/x-python",
   "name": "python",
   "nbconvert_exporter": "python",
   "pygments_lexer": "ipython3",
   "version": "3.13.2"
  }
 },
 "nbformat": 4,
 "nbformat_minor": 5
}
